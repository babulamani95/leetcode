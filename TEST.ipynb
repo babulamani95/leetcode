{
 "cells": [
  {
   "cell_type": "code",
   "execution_count": 1,
   "metadata": {},
   "outputs": [],
   "source": [
    "import numpy as np"
   ]
  },
  {
   "cell_type": "code",
   "execution_count": 2,
   "metadata": {},
   "outputs": [],
   "source": [
    "input = \"dir\\n\\tsubdir1\\n\\t\\tfile1.ext\\n\\t\\tsubsubdir1\\n\\tsubdir2\\n\\t\\tsubsubdir2\\n\\t\\t\\tfile2.ext\""
   ]
  },
  {
   "cell_type": "code",
   "execution_count": 3,
   "metadata": {},
   "outputs": [
    {
     "name": "stdout",
     "output_type": "stream",
     "text": [
      "['dir', '\\tsubdir1', '\\t\\tfile1.ext', '\\t\\tsubsubdir1', '\\tsubdir2', '\\t\\tsubsubdir2', '\\t\\t\\tfile2.ext']\n",
      "[0, 1, 2, 2, 1, 2, 3]\n"
     ]
    }
   ],
   "source": [
    "splits = input.split(\"\\n\")\n",
    "print(splits)\n",
    "\n",
    "levels = [i.count(\"\\t\") for i in splits]\n",
    "print(levels)\n",
    "\n",
    "result = [0] * (max(levels) + 1)\n",
    "result[0] = splits[np.argmin(levels)].replace(\"\\t\",\"\")\n",
    "result[-1] = splits[np.argmax(levels)].replace(\"\\t\",\"\")"
   ]
  },
  {
   "cell_type": "code",
   "execution_count": 21,
   "metadata": {},
   "outputs": [
    {
     "name": "stdout",
     "output_type": "stream",
     "text": [
      "Current:  dir\n",
      "Depth:  0\n",
      "Length:  3\n",
      "Stack depth:  [0, 4]\n",
      "\n",
      "\n",
      "Current:  \tsubdir1\n",
      "Depth:  1\n",
      "Length:  7\n",
      "Stack depth:  [0, 4, 12]\n",
      "\n",
      "\n",
      "Current:  \t\tfile1.ext\n",
      "Depth:  2\n",
      "Length:  9\n",
      "21\n",
      "\n",
      "\n",
      "Current:  \t\tsubsubdir1\n",
      "Depth:  2\n",
      "Length:  10\n",
      "Stack depth:  [0, 4, 12, 23]\n",
      "\n",
      "\n",
      "Current:  \tsubdir2\n",
      "Depth:  1\n",
      "Length:  7\n",
      "Stack depth:  [0, 4, 12]\n",
      "\n",
      "\n",
      "Current:  \t\tsubsubdir2\n",
      "Depth:  2\n",
      "Length:  10\n",
      "Stack depth:  [0, 4, 12, 23]\n",
      "\n",
      "\n",
      "Current:  \t\t\tfile2.ext\n",
      "Depth:  3\n",
      "Length:  9\n",
      "32\n",
      "\n",
      "\n",
      "32\n"
     ]
    }
   ],
   "source": [
    "splits = input.split(\"\\n\")\n",
    "# print(splits)\n",
    "\n",
    "max_len = 0\n",
    "stack = [0]\n",
    "for cur in splits:\n",
    "    # print(\"Current: \", cur)\n",
    "    depth = cur.count(\"\\t\")\n",
    "    length = len(cur) - depth\n",
    "    # print(\"Depth: \", depth)\n",
    "    # print(\"Length: \", length)\n",
    "\n",
    "    if \".\" in cur:\n",
    "        max_len = max(max_len, stack[depth] +  length)\n",
    "    else:\n",
    "        stack[depth + 1:] = [stack[depth] + length + 1]\n",
    "\n"
   ]
  },
  {
   "cell_type": "code",
   "execution_count": 19,
   "metadata": {},
   "outputs": [],
   "source": [
    "x = [3]"
   ]
  },
  {
   "cell_type": "code",
   "execution_count": 20,
   "metadata": {},
   "outputs": [
    {
     "data": {
      "text/plain": [
       "[]"
      ]
     },
     "execution_count": 20,
     "metadata": {},
     "output_type": "execute_result"
    }
   ],
   "source": [
    "x[2:]"
   ]
  },
  {
   "cell_type": "code",
   "execution_count": 22,
   "metadata": {},
   "outputs": [],
   "source": [
    "\n",
    "class Solution:\n",
    "    def lengthLongestPath(self, input: str) -> int:\n",
    "        splits = input.split(\"\\n\")\n",
    "        # print(splits)\n",
    "\n",
    "        max_len = 0\n",
    "        stack = [0]\n",
    "        for cur in splits:\n",
    "            # print(\"Current: \", cur)\n",
    "            depth = cur.count(\"\\t\")\n",
    "            length = len(cur) - depth\n",
    "            # print(\"Depth: \", depth)\n",
    "            # print(\"Length: \", length)\n",
    "\n",
    "            if \".\" in cur:\n",
    "                max_len = max(max_len, stack[depth] +  length)\n",
    "            else:\n",
    "                stack[depth + 1:] = [stack[depth] + length + 1]\n",
    "\n",
    "        return max_len"
   ]
  },
  {
   "cell_type": "code",
   "execution_count": 24,
   "metadata": {},
   "outputs": [],
   "source": [
    "x = Solution()"
   ]
  },
  {
   "cell_type": "code",
   "execution_count": 27,
   "metadata": {},
   "outputs": [
    {
     "data": {
      "text/plain": [
       "0"
      ]
     },
     "execution_count": 27,
     "metadata": {},
     "output_type": "execute_result"
    }
   ],
   "source": [
    "x.lengthLongestPath(\"a\")"
   ]
  },
  {
   "cell_type": "code",
   "execution_count": null,
   "metadata": {},
   "outputs": [],
   "source": []
  }
 ],
 "metadata": {
  "kernelspec": {
   "display_name": "Python 3",
   "language": "python",
   "name": "python3"
  },
  "language_info": {
   "codemirror_mode": {
    "name": "ipython",
    "version": 3
   },
   "file_extension": ".py",
   "mimetype": "text/x-python",
   "name": "python",
   "nbconvert_exporter": "python",
   "pygments_lexer": "ipython3",
   "version": "3.10.12"
  }
 },
 "nbformat": 4,
 "nbformat_minor": 2
}
